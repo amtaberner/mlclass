{
 "metadata": {
  "name": ""
 },
 "nbformat": 3,
 "nbformat_minor": 0,
 "worksheets": [
  {
   "cells": [
    {
     "cell_type": "markdown",
     "metadata": {},
     "source": [
      "Load Data"
     ]
    },
    {
     "cell_type": "code",
     "collapsed": false,
     "input": [
      "import pickle\n",
      "data = pickle.load( open( \"/home/shreyas/Downloads/MLBootcampData_Classification.p\", \"rb\" ) )\n",
      "Y = data[:,-1]\n",
      "X = data[:,:-1]\n",
      "print(\"Feature matrix dimension:\")\n",
      "print(X.shape)\n",
      "print(\"Target vector dimension:\")\n",
      "print(Y.shape)"
     ],
     "language": "python",
     "metadata": {},
     "outputs": [
      {
       "output_type": "stream",
       "stream": "stdout",
       "text": [
        "Feature matrix dimension:\n",
        "(374, 28)\n",
        "Target vector dimension:\n",
        "(374,)\n"
       ]
      }
     ],
     "prompt_number": 14
    },
    {
     "cell_type": "markdown",
     "metadata": {},
     "source": [
      "Standardize data"
     ]
    },
    {
     "cell_type": "code",
     "collapsed": true,
     "input": [
      "from sklearn import preprocessing \n",
      "X = preprocessing.scale(X)"
     ],
     "language": "python",
     "metadata": {},
     "outputs": [],
     "prompt_number": 15
    },
    {
     "cell_type": "markdown",
     "metadata": {},
     "source": [
      "Standardized data has zero mean and unit variance"
     ]
    },
    {
     "cell_type": "code",
     "collapsed": false,
     "input": [
      "mn = X.mean(axis=0)\n",
      "print(\"Mean Array:\")\n",
      "print(mn)\n",
      "std = X.std(axis=0)\n",
      "print(\"Standard Deviation Array:\")\n",
      "print(std)"
     ],
     "language": "python",
     "metadata": {},
     "outputs": [
      {
       "output_type": "stream",
       "stream": "stdout",
       "text": [
        "Mean Array:\n",
        "[  3.77594569e-16   1.33909520e-15  -2.35759125e-15  -3.06350311e-16\n",
        "   1.77160722e-15  -1.26636669e-15  -5.33701128e-16  -3.76711437e-15\n",
        "   4.48245125e-15  -2.39974410e-15   5.02865723e-16   1.60121470e-15\n",
        "   3.23181767e-15   1.79001199e-15   5.04053127e-16  -2.83730259e-15\n",
        "   2.02541489e-15  -1.34889129e-15   2.39113542e-16   1.07578830e-15\n",
        "  -2.59091619e-15  -6.76523602e-16  -3.05660132e-15   3.05756608e-15\n",
        "   2.91032795e-15  -3.50877972e-15  -4.56349159e-15  -2.29762733e-15]\n",
        "Standard Deviation Array:\n",
        "[ 1.  1.  1.  1.  1.  1.  1.  1.  1.  1.  1.  1.  1.  1.  1.  1.  1.  1.\n",
        "  1.  1.  1.  1.  1.  1.  1.  1.  1.  1.]\n"
       ]
      }
     ],
     "prompt_number": 16
    },
    {
     "cell_type": "markdown",
     "metadata": {},
     "source": [
      "Split data into training and test sets"
     ]
    },
    {
     "cell_type": "code",
     "collapsed": true,
     "input": [
      "from sklearn import cross_validation\n",
      "X_train, X_test, Y_train, Y_test = cross_validation.train_test_split(X, Y, test_size=0.4, random_state = 0)"
     ],
     "language": "python",
     "metadata": {},
     "outputs": [],
     "prompt_number": 17
    },
    {
     "cell_type": "markdown",
     "metadata": {},
     "source": [
      "Instantiate a Support Vector Classifier (SVC) and train it using X_train,Y_train"
     ]
    },
    {
     "cell_type": "code",
     "collapsed": true,
     "input": [
      "from sklearn import svm\n",
      "clf = svm.SVC(kernel='linear', C=1).fit(X_train, Y_train)"
     ],
     "language": "python",
     "metadata": {},
     "outputs": [],
     "prompt_number": 18
    },
    {
     "cell_type": "markdown",
     "metadata": {},
     "source": [
      "Use test data set to get an estimate of model accuracy for unseen data"
     ]
    },
    {
     "cell_type": "code",
     "collapsed": false,
     "input": [
      "accuracy = clf.score(X_test, Y_test)\n",
      "print(\"Accuracy: %0.2f\" % (accuracy))"
     ],
     "language": "python",
     "metadata": {},
     "outputs": []
    },
    {
     "cell_type": "markdown",
     "metadata": {},
     "source": [
      "Create a confusion matrix to evaluate the quality of the classifier output."
     ]
    },
    {
     "cell_type": "code",
     "collapsed": false,
     "input": [
      "from sklearn.metrics import confusion_matrix\n",
      "Y_pred = clf.predict(X_test);\n",
      "cm = confusion_matrix(Y_test, Y_pred)\n",
      "print(\"Confusion Matrix:\")\n",
      "print(cm)"
     ],
     "language": "python",
     "metadata": {},
     "outputs": []
    },
    {
     "cell_type": "markdown",
     "metadata": {},
     "source": [
      "Use 10-fold cross validation to get a better estimate of model accuracy"
     ]
    },
    {
     "cell_type": "code",
     "collapsed": false,
     "input": [
      "clf = svm.SVC(kernel='linear', C=1);\n",
      "scores = cross_validation.cross_val_score(clf,X,Y,cv=10)\n",
      "print(\"Accuracy: %0.2f (+/- %0.2f)\" % (scores.mean(), scores.std() * 2)) "
     ],
     "language": "python",
     "metadata": {},
     "outputs": []
    },
    {
     "cell_type": "markdown",
     "metadata": {},
     "source": [
      "Use grid search to find optimal hyperparameter settings"
     ]
    },
    {
     "cell_type": "code",
     "collapsed": false,
     "input": [
      "from sklearn.grid_search import GridSearchCV\n",
      "tuned_parameters = [{'kernel': ['rbf'], 'gamma': [1e-3, 1e-4],'C': [1, 10, 100]},{'kernel': ['linear'], 'C': [1, 10, 100]}]\n",
      "clf = GridSearchCV(svm.SVC(), tuned_parameters, cv=5,verbose = 2)\n",
      "clf.fit(X, Y)"
     ],
     "language": "python",
     "metadata": {},
     "outputs": []
    },
    {
     "cell_type": "markdown",
     "metadata": {},
     "source": [
      "Best parameters"
     ]
    },
    {
     "cell_type": "code",
     "collapsed": false,
     "input": [
      "clf_BestEstimator = clf.best_estimator_\n",
      "print(clf_BestEstimator)"
     ],
     "language": "python",
     "metadata": {},
     "outputs": []
    },
    {
     "cell_type": "markdown",
     "metadata": {},
     "source": [
      "Compare model accuracies"
     ]
    },
    {
     "cell_type": "code",
     "collapsed": false,
     "input": [
      "print(\"Initial Guess:\")\n",
      "clf = svm.SVC(kernel='linear',C=1);\n",
      "scores = cross_validation.cross_val_score(clf, X, Y, cv=5)\n",
      "print(\"Accuracy: %0.2f (+/- %0.2f)\" % (scores.mean(), scores.std() * 2))\n",
      "\n",
      "print(\"Optimal Parameters (Grid Search):\")\n",
      "scores = cross_validation.cross_val_score(clf_BestEstimator, X, Y, cv=5)\n",
      "print(\"Accuracy: %0.2f (+/- %0.2f)\" % (scores.mean(), scores.std() * 2))"
     ],
     "language": "python",
     "metadata": {},
     "outputs": []
    }
   ],
   "metadata": {}
  }
 ]
}